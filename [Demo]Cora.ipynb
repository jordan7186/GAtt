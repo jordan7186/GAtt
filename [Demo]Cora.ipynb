{
 "cells": [
  {
   "cell_type": "markdown",
   "metadata": {},
   "source": [
    "# Demo on the Cora dataset\n",
    "\n",
    "This notebook demonstrates how to run GAtt on the Cora dataset."
   ]
  },
  {
   "cell_type": "code",
   "execution_count": 1,
   "metadata": {},
   "outputs": [],
   "source": [
    "import os\n",
    "\n",
    "# Set proper working directory\n",
    "os.chdir(\"/workspace/\")"
   ]
  },
  {
   "cell_type": "markdown",
   "metadata": {},
   "source": [
    "## Data preparation"
   ]
  },
  {
   "cell_type": "code",
   "execution_count": 2,
   "metadata": {},
   "outputs": [],
   "source": [
    "import torch\n",
    "from torch_geometric.datasets import Planetoid\n",
    "\n",
    "\n",
    "dataset_name = \"Cora\"\n",
    "device = torch.device(\"cuda\" if torch.cuda.is_available() else \"cpu\")\n",
    "data = Planetoid(\"/workspace/\", dataset_name)[0].to(device)"
   ]
  },
  {
   "cell_type": "markdown",
   "metadata": {},
   "source": [
    "## Model preparation"
   ]
  },
  {
   "cell_type": "markdown",
   "metadata": {},
   "source": [
    "Model definition"
   ]
  },
  {
   "cell_type": "code",
   "execution_count": 3,
   "metadata": {},
   "outputs": [],
   "source": [
    "import torch.nn.functional as F\n",
    "from torch_geometric.nn import GATConv\n",
    "\n",
    "\n",
    "class GAT_L2(torch.nn.Module):\n",
    "    def __init__(self, in_channels, hidden_channels, out_channels, heads):\n",
    "        super().__init__()\n",
    "        self.conv1 = GATConv(in_channels, hidden_channels, heads, dropout=0.6)\n",
    "        self.conv2 = GATConv(\n",
    "            hidden_channels * heads, out_channels, heads=1, concat=False, dropout=0.6\n",
    "        )\n",
    "\n",
    "    def forward(self, x, edge_index, return_att=False):\n",
    "        if return_att:\n",
    "            x, att1 = self.conv1(x, edge_index, return_attention_weights=return_att)\n",
    "            x = F.elu(x)\n",
    "            x, att2 = self.conv2(x, edge_index, return_attention_weights=return_att)\n",
    "            self.att = [att1, att2]\n",
    "        else:\n",
    "            x = self.conv1(x, edge_index)\n",
    "            x = F.elu(x)\n",
    "            x = self.conv2(x, edge_index)\n",
    "        return x\n",
    "\n",
    "\n",
    "class GAT_L3(torch.nn.Module):\n",
    "    def __init__(self, in_channels, hidden_channels, out_channels, heads):\n",
    "        super().__init__()\n",
    "        self.conv1 = GATConv(in_channels, hidden_channels, heads, dropout=0.6)\n",
    "        self.conv2 = GATConv(\n",
    "            hidden_channels * heads, hidden_channels, heads=1, concat=False, dropout=0.6\n",
    "        )\n",
    "        self.conv3 = GATConv(\n",
    "            hidden_channels, out_channels, heads=1, concat=False, dropout=0.6\n",
    "        )\n",
    "\n",
    "    def forward(self, x, edge_index, return_att=False):\n",
    "        if return_att:\n",
    "            x, att1 = self.conv1(x, edge_index, return_attention_weights=return_att)\n",
    "            x = F.elu(x)\n",
    "            x, att2 = self.conv2(x, edge_index, return_attention_weights=return_att)\n",
    "            x = F.elu(x)\n",
    "            x, att3 = self.conv3(x, edge_index, return_attention_weights=return_att)\n",
    "            self.att = [att1, att2, att3]\n",
    "        else:\n",
    "            x = self.conv1(x, edge_index)\n",
    "            x = F.elu(x)\n",
    "            x = self.conv2(x, edge_index)\n",
    "            x = F.elu(x)\n",
    "            x = self.conv3(x, edge_index)\n",
    "        return x"
   ]
  },
  {
   "cell_type": "markdown",
   "metadata": {},
   "source": [
    "Basic training code"
   ]
  },
  {
   "cell_type": "code",
   "execution_count": 4,
   "metadata": {},
   "outputs": [
    {
     "name": "stdout",
     "output_type": "stream",
     "text": [
      "Training for Cora with GAT_L2...\n",
      "Epoch: 100, Loss: 0.2789, Train: 1.0000, Val: 0.7580, Test: 0.7820\n",
      "Epoch: 200, Loss: 0.2786, Train: 1.0000, Val: 0.7680, Test: 0.7820\n",
      "Epoch: 300, Loss: 0.3018, Train: 1.0000, Val: 0.7720, Test: 0.7820\n",
      "Epoch: 400, Loss: 0.2309, Train: 1.0000, Val: 0.7640, Test: 0.7820\n",
      "Epoch: 500, Loss: 0.2242, Train: 1.0000, Val: 0.7520, Test: 0.7820\n",
      "Test Accuracy of GAT_L2: 0.7850\n",
      "\n",
      "Training for Cora with GAT_L3...\n",
      "Epoch: 100, Loss: 0.4205, Train: 1.0000, Val: 0.7580, Test: 0.7880\n",
      "Epoch: 200, Loss: 0.5022, Train: 1.0000, Val: 0.7500, Test: 0.7880\n",
      "Epoch: 300, Loss: 0.3063, Train: 1.0000, Val: 0.7440, Test: 0.7880\n",
      "Epoch: 400, Loss: 0.3592, Train: 1.0000, Val: 0.7200, Test: 0.7880\n",
      "Epoch: 500, Loss: 0.3644, Train: 1.0000, Val: 0.7320, Test: 0.7880\n",
      "Test Accuracy of GAT_L3: 0.7650\n"
     ]
    }
   ],
   "source": [
    "from torch_geometric.logging import log\n",
    "\n",
    "hidden_channels = 32\n",
    "num_classes = data.y.max().item() + 1\n",
    "heads = 4\n",
    "\n",
    "model_l2 = GAT_L2(\n",
    "    in_channels=data.num_features,\n",
    "    hidden_channels=hidden_channels,\n",
    "    out_channels=num_classes,\n",
    "    heads=heads,\n",
    ").to(device)\n",
    "optimizer_l2 = torch.optim.Adam(model_l2.parameters(), lr=0.005)\n",
    "\n",
    "model_l3 = GAT_L3(\n",
    "    in_channels=data.num_features,\n",
    "    hidden_channels=hidden_channels,\n",
    "    out_channels=num_classes,\n",
    "    heads=heads,\n",
    ").to(device)\n",
    "optimizer_l3 = torch.optim.Adam(model_l3.parameters(), lr=0.001)\n",
    "\n",
    "\n",
    "def train(model, optimizer, data):\n",
    "    model.train()\n",
    "    optimizer.zero_grad()\n",
    "    out = model(data.x, data.edge_index)\n",
    "    loss = F.cross_entropy(out[data.train_mask], data.y[data.train_mask])\n",
    "    loss.backward()\n",
    "    optimizer.step()\n",
    "    return float(loss)\n",
    "\n",
    "\n",
    "@torch.no_grad()\n",
    "def test(model, data):\n",
    "    model.eval()\n",
    "    pred = model(data.x, data.edge_index).argmax(dim=-1)\n",
    "\n",
    "    accs = []\n",
    "    for mask in [data.train_mask, data.val_mask, data.test_mask]:\n",
    "        accs.append(int((pred[mask] == data.y[mask]).sum()) / int(mask.sum()))\n",
    "    return accs\n",
    "\n",
    "\n",
    "# Training for GAT_L2\n",
    "print(f\"Training for {dataset_name} with GAT_L2...\")\n",
    "best_val_acc = final_test_acc = 0\n",
    "for epoch in range(1, 501):\n",
    "    loss = train(model=model_l2, optimizer=optimizer_l2, data=data)\n",
    "    train_acc, val_acc, tmp_test_acc = test(model=model_l2, data=data)\n",
    "    if val_acc > best_val_acc:\n",
    "        best_val_acc = val_acc\n",
    "        test_acc = tmp_test_acc\n",
    "        model_state = model_l2.state_dict()\n",
    "    if epoch % 100 == 0:\n",
    "        log(Epoch=epoch, Loss=loss, Train=train_acc, Val=val_acc, Test=test_acc)\n",
    "\n",
    "# Get the best model state and test acc\n",
    "model_l2.load_state_dict(model_state)\n",
    "test_acc = test(model=model_l2, data=data)[-1]\n",
    "print(f\"Test Accuracy of GAT_L2: {test_acc:.4f}\\n\")\n",
    "\n",
    "# Training for GAT_L3\n",
    "print(f\"Training for {dataset_name} with GAT_L3...\")\n",
    "best_val_acc = final_test_acc = 0\n",
    "for epoch in range(1, 501):\n",
    "    loss = train(model=model_l3, optimizer=optimizer_l3, data=data)\n",
    "    train_acc, val_acc, tmp_test_acc = test(model=model_l3, data=data)\n",
    "    if val_acc > best_val_acc:\n",
    "        best_val_acc = val_acc\n",
    "        test_acc = tmp_test_acc\n",
    "        model_state = model_l3.state_dict()\n",
    "    if epoch % 100 == 0:\n",
    "        log(Epoch=epoch, Loss=loss, Train=train_acc, Val=val_acc, Test=test_acc)\n",
    "\n",
    "# Get the best model state and test acc\n",
    "model_l3.load_state_dict(model_state)\n",
    "test_acc = test(model=model_l3, data=data)[-1]\n",
    "print(f\"Test Accuracy of GAT_L3: {test_acc:.4f}\")"
   ]
  },
  {
   "cell_type": "markdown",
   "metadata": {},
   "source": [
    "### Acquiring GAtt scores\n",
    "\n",
    "Here, we will get the edge attribution scores using GAtt. Importing the necessary libraries:"
   ]
  },
  {
   "cell_type": "code",
   "execution_count": 5,
   "metadata": {},
   "outputs": [],
   "source": [
    "from gatt import get_gatt"
   ]
  },
  {
   "cell_type": "markdown",
   "metadata": {},
   "source": [
    "### GAtt calculation\n",
    "\n",
    "We will calculate the edge attribution scores using GAtt. `get_gatt` returns the GAtt scores (e.g., $\\phi_{i,j}^v$ in the paper) values for all edges within $L$-hops of the target node $v$, where $L$ is the number of layers in the GAT model."
   ]
  },
  {
   "cell_type": "code",
   "execution_count": 6,
   "metadata": {},
   "outputs": [
    {
     "name": "stdout",
     "output_type": "stream",
     "text": [
      "GAtt values for GAT_L2 (showing only the first 5): [0.04767515882849693, 0.057931121438741684, 0.0, 0.0, 0.295834481716156]\n"
     ]
    }
   ],
   "source": [
    "target_node = 1201\n",
    "\n",
    "gatt_val_l2, edge_index_l2 = get_gatt(\n",
    "    target_node=target_node, model=model_l2, data=data, sparse=True\n",
    ")\n",
    "print(f\"GAtt values for GAT_L2 (showing only the first 5): {gatt_val_l2[:5]}\")"
   ]
  },
  {
   "cell_type": "code",
   "execution_count": 7,
   "metadata": {},
   "outputs": [
    {
     "name": "stdout",
     "output_type": "stream",
     "text": [
      "GAtt values for GAT_L3 (showing only the first 5): [0.07037428021430969, 0.0, 0.0, 0.0, 0.0968344509601593]\n"
     ]
    }
   ],
   "source": [
    "target_node = 1201\n",
    "\n",
    "gatt_val_l3, edge_index_l3 = get_gatt(\n",
    "    target_node=target_node, model=model_l3, data=data, sparse=True\n",
    ")\n",
    "print(f\"GAtt values for GAT_L3 (showing only the first 5): {gatt_val_l3[:5]}\")"
   ]
  }
 ],
 "metadata": {
  "kernelspec": {
   "display_name": "Python 3",
   "language": "python",
   "name": "python3"
  },
  "language_info": {
   "codemirror_mode": {
    "name": "ipython",
    "version": 3
   },
   "file_extension": ".py",
   "mimetype": "text/x-python",
   "name": "python",
   "nbconvert_exporter": "python",
   "pygments_lexer": "ipython3",
   "version": "3.10.13"
  },
  "orig_nbformat": 4
 },
 "nbformat": 4,
 "nbformat_minor": 2
}
