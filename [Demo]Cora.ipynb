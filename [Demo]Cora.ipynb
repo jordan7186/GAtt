{
 "cells": [
  {
   "cell_type": "markdown",
   "metadata": {},
   "source": [
    "# Demo on the Cora dataset\n",
    "\n",
    "This notebook demonstrates how to run GAtt on the Cora dataset."
   ]
  },
  {
   "cell_type": "code",
   "execution_count": 1,
   "metadata": {},
   "outputs": [],
   "source": [
    "import os\n",
    "\n",
    "# Set proper working directory\n",
    "os.chdir(\"/workspace/\")"
   ]
  },
  {
   "cell_type": "markdown",
   "metadata": {},
   "source": [
    "## Data preparation"
   ]
  },
  {
   "cell_type": "code",
   "execution_count": 2,
   "metadata": {},
   "outputs": [],
   "source": [
    "import torch\n",
    "from torch_geometric.datasets import Planetoid\n",
    "\n",
    "\n",
    "dataset_name = \"Cora\"\n",
    "device = torch.device(\"cuda\" if torch.cuda.is_available() else \"cpu\")\n",
    "data = Planetoid(\"/workspace/\", dataset_name)[0].to(device)"
   ]
  },
  {
   "cell_type": "markdown",
   "metadata": {},
   "source": [
    "## Model preparation"
   ]
  },
  {
   "cell_type": "markdown",
   "metadata": {},
   "source": [
    "Model definition"
   ]
  },
  {
   "cell_type": "code",
   "execution_count": 3,
   "metadata": {},
   "outputs": [],
   "source": [
    "import torch.nn.functional as F\n",
    "from torch_geometric.nn import GATConv\n",
    "\n",
    "\n",
    "class GAT_L2(torch.nn.Module):\n",
    "    def __init__(self, in_channels, hidden_channels, out_channels, heads):\n",
    "        super().__init__()\n",
    "        self.conv1 = GATConv(in_channels, hidden_channels, heads, dropout=0.6)\n",
    "        self.conv2 = GATConv(\n",
    "            hidden_channels * heads, out_channels, heads=1, concat=False, dropout=0.6\n",
    "        )\n",
    "\n",
    "    def forward(self, x, edge_index, return_att=False):\n",
    "        if return_att:\n",
    "            x, att1 = self.conv1(x, edge_index, return_attention_weights=return_att)\n",
    "            x = F.elu(x)\n",
    "            x, att2 = self.conv2(x, edge_index, return_attention_weights=return_att)\n",
    "            self.att = [att1, att2]\n",
    "        else:\n",
    "            x = self.conv1(x, edge_index)\n",
    "            x = F.elu(x)\n",
    "            x = self.conv2(x, edge_index)\n",
    "        return x\n",
    "\n",
    "\n",
    "class GAT_L3(torch.nn.Module):\n",
    "    def __init__(self, in_channels, hidden_channels, out_channels, heads):\n",
    "        super().__init__()\n",
    "        self.conv1 = GATConv(in_channels, hidden_channels, heads, dropout=0.6)\n",
    "        self.conv2 = GATConv(\n",
    "            hidden_channels * heads, hidden_channels, heads=1, concat=False, dropout=0.6\n",
    "        )\n",
    "        self.conv3 = GATConv(\n",
    "            hidden_channels, out_channels, heads=1, concat=False, dropout=0.6\n",
    "        )\n",
    "\n",
    "    def forward(self, x, edge_index, return_att=False):\n",
    "        if return_att:\n",
    "            x, att1 = self.conv1(x, edge_index, return_attention_weights=return_att)\n",
    "            x = F.elu(x)\n",
    "            x, att2 = self.conv2(x, edge_index, return_attention_weights=return_att)\n",
    "            x = F.elu(x)\n",
    "            x, att3 = self.conv3(x, edge_index, return_attention_weights=return_att)\n",
    "            self.att = [att1, att2, att3]\n",
    "        else:\n",
    "            x = self.conv1(x, edge_index)\n",
    "            x = F.elu(x)\n",
    "            x = self.conv2(x, edge_index)\n",
    "            x = F.elu(x)\n",
    "            x = self.conv3(x, edge_index)\n",
    "        return x"
   ]
  },
  {
   "cell_type": "markdown",
   "metadata": {},
   "source": [
    "Basic training code"
   ]
  },
  {
   "cell_type": "code",
   "execution_count": 4,
   "metadata": {},
   "outputs": [
    {
     "name": "stdout",
     "output_type": "stream",
     "text": [
      "Training for Cora with GAT_L2...\n",
      "Epoch: 100, Loss: 0.3096, Train: 1.0000, Val: 0.7440, Test: 0.8020\n",
      "Epoch: 200, Loss: 0.2785, Train: 1.0000, Val: 0.7440, Test: 0.8020\n",
      "Epoch: 300, Loss: 0.2254, Train: 1.0000, Val: 0.7500, Test: 0.8020\n",
      "Epoch: 400, Loss: 0.2944, Train: 1.0000, Val: 0.7640, Test: 0.8020\n",
      "Epoch: 500, Loss: 0.2088, Train: 1.0000, Val: 0.7580, Test: 0.8020\n",
      "Test Accuracy of GAT_L2: 0.7710\n",
      "\n",
      "Training for Cora with GAT_L3...\n",
      "Epoch: 100, Loss: 0.4624, Train: 1.0000, Val: 0.7820, Test: 0.8040\n",
      "Epoch: 200, Loss: 0.4095, Train: 1.0000, Val: 0.7680, Test: 0.8040\n",
      "Epoch: 300, Loss: 0.4140, Train: 1.0000, Val: 0.7580, Test: 0.8040\n",
      "Epoch: 400, Loss: 0.4891, Train: 1.0000, Val: 0.7420, Test: 0.8040\n",
      "Epoch: 500, Loss: 0.4182, Train: 1.0000, Val: 0.7480, Test: 0.8040\n",
      "Test Accuracy of GAT_L3: 0.7750\n"
     ]
    }
   ],
   "source": [
    "from torch_geometric.logging import log\n",
    "\n",
    "hidden_channels = 32\n",
    "num_classes = data.y.max().item() + 1\n",
    "heads = 4\n",
    "\n",
    "model_l2 = GAT_L2(\n",
    "    in_channels=data.num_features,\n",
    "    hidden_channels=hidden_channels,\n",
    "    out_channels=num_classes,\n",
    "    heads=heads,\n",
    ").to(device)\n",
    "optimizer_l2 = torch.optim.Adam(model_l2.parameters(), lr=0.005)\n",
    "\n",
    "model_l3 = GAT_L3(\n",
    "    in_channels=data.num_features,\n",
    "    hidden_channels=hidden_channels,\n",
    "    out_channels=num_classes,\n",
    "    heads=heads,\n",
    ").to(device)\n",
    "optimizer_l3 = torch.optim.Adam(model_l3.parameters(), lr=0.001)\n",
    "\n",
    "\n",
    "def train(model, optimizer, data):\n",
    "    model.train()\n",
    "    optimizer.zero_grad()\n",
    "    out = model(data.x, data.edge_index)\n",
    "    loss = F.cross_entropy(out[data.train_mask], data.y[data.train_mask])\n",
    "    loss.backward()\n",
    "    optimizer.step()\n",
    "    return float(loss)\n",
    "\n",
    "\n",
    "@torch.no_grad()\n",
    "def test(model, data):\n",
    "    model.eval()\n",
    "    pred = model(data.x, data.edge_index).argmax(dim=-1)\n",
    "\n",
    "    accs = []\n",
    "    for mask in [data.train_mask, data.val_mask, data.test_mask]:\n",
    "        accs.append(int((pred[mask] == data.y[mask]).sum()) / int(mask.sum()))\n",
    "    return accs\n",
    "\n",
    "\n",
    "# Training for GAT_L2\n",
    "print(f\"Training for {dataset_name} with GAT_L2...\")\n",
    "best_val_acc = final_test_acc = 0\n",
    "for epoch in range(1, 501):\n",
    "    loss = train(model=model_l2, optimizer=optimizer_l2, data=data)\n",
    "    train_acc, val_acc, tmp_test_acc = test(model=model_l2, data=data)\n",
    "    if val_acc > best_val_acc:\n",
    "        best_val_acc = val_acc\n",
    "        test_acc = tmp_test_acc\n",
    "        model_state = model_l2.state_dict()\n",
    "    if epoch % 100 == 0:\n",
    "        log(Epoch=epoch, Loss=loss, Train=train_acc, Val=val_acc, Test=test_acc)\n",
    "\n",
    "# Get the best model state and test acc\n",
    "model_l2.load_state_dict(model_state)\n",
    "test_acc = test(model=model_l2, data=data)[-1]\n",
    "print(f\"Test Accuracy of GAT_L2: {test_acc:.4f}\\n\")\n",
    "\n",
    "# Training for GAT_L3\n",
    "print(f\"Training for {dataset_name} with GAT_L3...\")\n",
    "best_val_acc = final_test_acc = 0\n",
    "for epoch in range(1, 501):\n",
    "    loss = train(model=model_l3, optimizer=optimizer_l3, data=data)\n",
    "    train_acc, val_acc, tmp_test_acc = test(model=model_l3, data=data)\n",
    "    if val_acc > best_val_acc:\n",
    "        best_val_acc = val_acc\n",
    "        test_acc = tmp_test_acc\n",
    "        model_state = model_l3.state_dict()\n",
    "    if epoch % 100 == 0:\n",
    "        log(Epoch=epoch, Loss=loss, Train=train_acc, Val=val_acc, Test=test_acc)\n",
    "\n",
    "# Get the best model state and test acc\n",
    "model_l3.load_state_dict(model_state)\n",
    "test_acc = test(model=model_l3, data=data)[-1]\n",
    "print(f\"Test Accuracy of GAT_L3: {test_acc:.4f}\")"
   ]
  },
  {
   "cell_type": "markdown",
   "metadata": {},
   "source": [
    "### Acquiring GAtt scores\n",
    "\n",
    "Here, we will get the edge attribution scores using GAtt. Importing the necessary libraries:"
   ]
  },
  {
   "cell_type": "code",
   "execution_count": 5,
   "metadata": {},
   "outputs": [],
   "source": [
    "from gatt import get_gatt"
   ]
  },
  {
   "cell_type": "markdown",
   "metadata": {},
   "source": [
    "### GAtt calculation\n",
    "\n",
    "We will calculate the edge attribution scores using GAtt. `get_gatt` returns the GAtt scores (e.g., $\\phi_{i,j}^v$ in the paper) values for all edges within $L$-hops of the target node $v$, where $L$ is the number of layers in the GAT model."
   ]
  },
  {
   "cell_type": "code",
   "execution_count": 6,
   "metadata": {},
   "outputs": [
    {
     "name": "stdout",
     "output_type": "stream",
     "text": [
      "GAtt values for GAT_L2 (showing only the first 5): [0.06168645620346069, 0.07993747293949127, 0.0, 0.0, 0.3082403838634491]\n"
     ]
    }
   ],
   "source": [
    "target_node = 1201\n",
    "\n",
    "gatt_val_l2, edge_index_l2 = get_gatt(\n",
    "    target_node=target_node, model=model_l2, data=data, sparse=True\n",
    ")\n",
    "print(f\"GAtt values for GAT_L2 (showing only the first 5): {gatt_val_l2[:5]}\")"
   ]
  },
  {
   "cell_type": "code",
   "execution_count": 7,
   "metadata": {},
   "outputs": [
    {
     "name": "stdout",
     "output_type": "stream",
     "text": [
      "GAtt values for GAT_L3 (showing only the first 5): [0.08655381202697754, 0.0, 0.0, 0.0, 0.11005090177059174]\n"
     ]
    }
   ],
   "source": [
    "target_node = 1201\n",
    "\n",
    "gatt_val_l3, edge_index_l3 = get_gatt(\n",
    "    target_node=target_node, model=model_l3, data=data, sparse=True\n",
    ")\n",
    "print(f\"GAtt values for GAT_L3 (showing only the first 5): {gatt_val_l3[:5]}\")"
   ]
  },
  {
   "cell_type": "markdown",
   "metadata": {},
   "source": [
    "#### GAtt batch calculation\n",
    "\n",
    "We will calculate the edge attribution scores using GAtt in a batch manner, which is more suited for calculating edge attributions for a large number of edges for the same target node."
   ]
  },
  {
   "cell_type": "code",
   "execution_count": 8,
   "metadata": {},
   "outputs": [],
   "source": [
    "from gatt import get_gatt_batch"
   ]
  },
  {
   "cell_type": "code",
   "execution_count": 9,
   "metadata": {},
   "outputs": [
    {
     "name": "stdout",
     "output_type": "stream",
     "text": [
      "GAtt values for GAT_L2 (showing only the first 5): [0.06168645620346069, 0.07993747293949127, 0.0, 0.0, 0.3082403838634491]\n"
     ]
    }
   ],
   "source": [
    "target_node = 1201\n",
    "\n",
    "gatt_val_l2, edge_index_l2 = get_gatt_batch(\n",
    "    target_node=target_node, model=model_l2, data=data, sparse=True\n",
    ")\n",
    "print(f\"GAtt values for GAT_L2 (showing only the first 5): {gatt_val_l2[:5]}\")"
   ]
  },
  {
   "cell_type": "code",
   "execution_count": 10,
   "metadata": {},
   "outputs": [
    {
     "name": "stdout",
     "output_type": "stream",
     "text": [
      "GAtt values for GAT_L3 (showing only the first 5): [0.08655381202697754, 0.0, 0.0, 0.0, 0.11005088686943054]\n"
     ]
    }
   ],
   "source": [
    "target_node = 1201\n",
    "\n",
    "gatt_val_l3, edge_index_l3 = get_gatt_batch(\n",
    "    target_node=target_node, model=model_l3, data=data, sparse=True\n",
    ")\n",
    "print(f\"GAtt values for GAT_L3 (showing only the first 5): {gatt_val_l3[:5]}\")"
   ]
  }
 ],
 "metadata": {
  "kernelspec": {
   "display_name": "Python 3",
   "language": "python",
   "name": "python3"
  },
  "language_info": {
   "codemirror_mode": {
    "name": "ipython",
    "version": 3
   },
   "file_extension": ".py",
   "mimetype": "text/x-python",
   "name": "python",
   "nbconvert_exporter": "python",
   "pygments_lexer": "ipython3",
   "version": "3.10.13"
  },
  "orig_nbformat": 4
 },
 "nbformat": 4,
 "nbformat_minor": 2
}
